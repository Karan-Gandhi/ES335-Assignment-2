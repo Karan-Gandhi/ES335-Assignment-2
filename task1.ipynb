{
 "cells": [
  {
   "cell_type": "code",
   "execution_count": 397,
   "metadata": {},
   "outputs": [],
   "source": [
    "import numpy as np\n",
    "import torch"
   ]
  },
  {
   "cell_type": "code",
   "execution_count": 398,
   "metadata": {},
   "outputs": [
    {
     "data": {
      "text/plain": [
       "device(type='cuda')"
      ]
     },
     "metadata": {},
     "output_type": "display_data"
    }
   ],
   "source": [
    "device = torch.device(\"cuda\" if torch.cuda.is_available() else \"cpu\")\n",
    "display(device)"
   ]
  },
  {
   "cell_type": "code",
   "execution_count": 399,
   "metadata": {},
   "outputs": [],
   "source": [
    "np.random.seed(45)\n",
    "num_samples = 40\n",
    "    \n",
    "# Generate data\n",
    "x1 = np.random.uniform(-1, 1, num_samples)\n",
    "f_x = 3*x1 + 4\n",
    "eps = np.random.randn(num_samples)\n",
    "y = f_x + eps"
   ]
  },
  {
   "cell_type": "code",
   "execution_count": 400,
   "metadata": {},
   "outputs": [],
   "source": [
    "theta = torch.tensor([0., 0.], requires_grad=True)"
   ]
  },
  {
   "cell_type": "code",
   "execution_count": 401,
   "metadata": {},
   "outputs": [
    {
     "data": {
      "text/plain": [
       "tensor([-7.4471, -1.0253])"
      ]
     },
     "metadata": {},
     "output_type": "display_data"
    }
   ],
   "source": [
    "x_tensor = torch.tensor(x1, dtype=torch.float32).reshape(-1, 1)\n",
    "X = torch.cat((torch.ones(x_tensor.shape), x_tensor), 1)\n",
    "y = torch.tensor(y, dtype=torch.float32).reshape(-1, 1)\n",
    "\n",
    "y_pred = (X @ theta).reshape(-1, 1)\n",
    "loss = torch.mean((y_pred - y) ** 2)\n",
    "loss.backward()\n",
    "\n",
    "true_grad = theta.grad.clone()\n",
    "\n",
    "display(true_grad)"
   ]
  },
  {
   "cell_type": "code",
   "execution_count": 402,
   "metadata": {},
   "outputs": [
    {
     "data": {
      "text/plain": [
       "tensor([-7.4471, -1.0253])"
      ]
     },
     "metadata": {},
     "output_type": "display_data"
    }
   ],
   "source": [
    "def compute_sgd(x_i, y_i):\n",
    "    theta.grad.zero_()\n",
    "    y_pred_i = x_i @ theta\n",
    "    loss_i = torch.mean((y_pred_i - y_i) ** 2)\n",
    "    loss_i.backward()\n",
    "    \n",
    "    return theta.grad.clone()\n",
    "\n",
    "stochastic_grads = []\n",
    "\n",
    "for i in range(y.shape[0]):\n",
    "    x_i = X[i].clone().detach()\n",
    "    y_i = y[i].clone().detach()\n",
    "    stochastic_grads.append(compute_sgd(x_i, y_i))\n",
    "\n",
    "mean_stochastic_grad = torch.mean(torch.stack(stochastic_grads), dim=0)\n",
    "\n",
    "display(mean_stochastic_grad)"
   ]
  },
  {
   "cell_type": "code",
   "execution_count": 403,
   "metadata": {},
   "outputs": [
    {
     "data": {
      "text/plain": [
       "tensor([ 4.7684e-07, -2.3842e-07])"
      ]
     },
     "metadata": {},
     "output_type": "display_data"
    }
   ],
   "source": [
    "residual_tensor = true_grad - mean_stochastic_grad\n",
    "display(residual_tensor)"
   ]
  },
  {
   "cell_type": "markdown",
   "metadata": {},
   "source": [
    "As we can observe from the above cell, the values in the residual tensor are all of the order $10^{-7}$, which indicates that the error is minimal. We can conclude that the stochastic gradient is a good estimate of the true gradient."
   ]
  }
 ],
 "metadata": {
  "kernelspec": {
   "display_name": "venv",
   "language": "python",
   "name": "python3"
  },
  "language_info": {
   "codemirror_mode": {
    "name": "ipython",
    "version": 3
   },
   "file_extension": ".py",
   "mimetype": "text/x-python",
   "name": "python",
   "nbconvert_exporter": "python",
   "pygments_lexer": "ipython3",
   "version": "3.12.4"
  }
 },
 "nbformat": 4,
 "nbformat_minor": 2
}
