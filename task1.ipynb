{
 "cells": [
  {
   "cell_type": "code",
   "execution_count": 9,
   "metadata": {},
   "outputs": [],
   "source": [
    "import numpy as np\n",
    "import torch"
   ]
  },
  {
   "cell_type": "code",
   "execution_count": 10,
   "metadata": {},
   "outputs": [
    {
     "data": {
      "text/plain": [
       "device(type='cuda')"
      ]
     },
     "metadata": {},
     "output_type": "display_data"
    }
   ],
   "source": [
    "device = torch.device(\"cuda\" if torch.cuda.is_available() else \"cpu\")\n",
    "display(device)"
   ]
  },
  {
   "cell_type": "code",
   "execution_count": 11,
   "metadata": {},
   "outputs": [],
   "source": [
    "np.random.seed(45)\n",
    "num_samples = 40\n",
    "    \n",
    "# Generate data\n",
    "x1 = np.random.uniform(-1, 1, num_samples)\n",
    "f_x = 3*x1 + 4\n",
    "eps = np.random.randn(num_samples)\n",
    "y = f_x + eps"
   ]
  },
  {
   "cell_type": "code",
   "execution_count": 12,
   "metadata": {},
   "outputs": [],
   "source": [
    "theta = torch.tensor([3., 4.], requires_grad=True)"
   ]
  },
  {
   "cell_type": "code",
   "execution_count": 13,
   "metadata": {},
   "outputs": [
    {
     "data": {
      "text/plain": [
       "tensor([-2.1246,  0.9933])"
      ]
     },
     "metadata": {},
     "output_type": "display_data"
    },
    {
     "data": {
      "text/plain": [
       "tensor(2.2600)"
      ]
     },
     "metadata": {},
     "output_type": "display_data"
    },
    {
     "data": {
      "text/plain": [
       "tensor([3., 4.], requires_grad=True)"
      ]
     },
     "metadata": {},
     "output_type": "display_data"
    }
   ],
   "source": [
    "x_tensor = torch.tensor(x1, dtype=torch.float32).reshape(-1, 1)\n",
    "X = torch.cat((torch.ones(x_tensor.shape), x_tensor), 1)\n",
    "y = torch.tensor(y, dtype=torch.float32).reshape(-1, 1)\n",
    "\n",
    "y_pred = (X @ theta).reshape(-1, 1)\n",
    "loss = torch.mean((y_pred - y) ** 2)\n",
    "loss.backward()\n",
    "\n",
    "true_grad = theta.grad.clone()\n",
    "true_loss = loss.data.clone()\n",
    "\n",
    "display(true_grad, true_loss, theta)"
   ]
  },
  {
   "cell_type": "code",
   "execution_count": 14,
   "metadata": {},
   "outputs": [
    {
     "data": {
      "text/plain": [
       "tensor([-2.1246,  0.9933])"
      ]
     },
     "metadata": {},
     "output_type": "display_data"
    }
   ],
   "source": [
    "def compute_sgd(x_i, y_i):\n",
    "    theta.grad.zero_()\n",
    "    y_pred_i = x_i @ theta\n",
    "    loss_i = torch.mean((y_pred_i - y_i) ** 2)\n",
    "    loss_i.backward()\n",
    "    \n",
    "    return theta.grad.clone()\n",
    "\n",
    "stochastic_grads = []\n",
    "\n",
    "for i in range(y.shape[0]):\n",
    "    x_i = X[i].clone().detach()\n",
    "    y_i = y[i].clone().detach()\n",
    "    stochastic_grads.append(compute_sgd(x_i, y_i))\n",
    "\n",
    "mean_stochastic_grad = torch.mean(torch.stack(stochastic_grads), dim=0)\n",
    "\n",
    "display(mean_stochastic_grad)"
   ]
  },
  {
   "cell_type": "code",
   "execution_count": 15,
   "metadata": {},
   "outputs": [
    {
     "data": {
      "text/plain": [
       "tensor([-2.3842e-07, -5.9605e-08])"
      ]
     },
     "metadata": {},
     "output_type": "display_data"
    }
   ],
   "source": [
    "residual_tensor = true_grad - mean_stochastic_grad\n",
    "display(residual_tensor)"
   ]
  },
  {
   "cell_type": "markdown",
   "metadata": {},
   "source": [
    "As we can observe from the above cell, the values in the residual tensor are all of the order $10^{-7}$, which indicates that the error is minimal. We can conclude that the stochastic gradient is a good estimate of the true gradient."
   ]
  },
  {
   "cell_type": "code",
   "execution_count": 16,
   "metadata": {},
   "outputs": [
    {
     "name": "stdout",
     "output_type": "stream",
     "text": [
      "Batch Gradient Descent converged in 79547 epochs\n",
      "Mini-Batch Gradient Descent converged in 10618 epochs\n",
      "Stochastic Gradient Descent converged in 358 epochs\n"
     ]
    }
   ],
   "source": [
    "def gradient_descent(grad_type: str='bgd', epochs=15, eps=1e-3, alpha=1e-5, minibatch_size=32):\n",
    "    loss_vals = []\n",
    "    theta_vals = []\n",
    "    theta_copy = torch.tensor([0., 0.], requires_grad=True)\n",
    "    theta_copy.requires_grad = True\n",
    "    epoch = 1\n",
    "    pretty_print = {'bgd': 'Batch Gradient Descent', 'mbgd': 'Mini-Batch Gradient Descent', 'sgd': 'Stochastic Gradient Descent'}\n",
    "    while True:\n",
    "        if grad_type == 'bgd':\n",
    "            y_pred = (X @ theta_copy).reshape(-1, 1)\n",
    "            loss = torch.mean((y_pred - y) ** 2)\n",
    "            loss.backward()\n",
    "\n",
    "            loss_vals.append(loss.item())\n",
    "            theta_vals.append(theta_copy.clone())\n",
    "\n",
    "            with torch.no_grad():\n",
    "                theta_copy -= alpha * theta_copy.grad\n",
    "\n",
    "            theta_copy.grad.zero_()\n",
    "        \n",
    "        elif grad_type == 'mbgd':\n",
    "            random_permutation = torch.randperm(num_samples)\n",
    "            X_shuffled = X[random_permutation]\n",
    "            y_shuffled = y[random_permutation]\n",
    "\n",
    "            for i in range(0, num_samples, minibatch_size):\n",
    "                X_batch = X_shuffled[i:i + minibatch_size]\n",
    "                y_batch = y_shuffled[i:i + minibatch_size]\n",
    "\n",
    "                y_pred = (X_batch @ theta_copy).reshape(-1, 1)\n",
    "                loss = torch.mean((y_pred - y_batch) ** 2)\n",
    "                loss.backward()\n",
    "\n",
    "                loss_vals.append(loss.item())\n",
    "                theta_vals.append(theta_copy.clone())\n",
    "\n",
    "                with torch.no_grad():\n",
    "                    theta_copy -= alpha * theta_copy.grad\n",
    "\n",
    "                theta_copy.grad.zero_()\n",
    "\n",
    "        else:\n",
    "            for i in range(num_samples):\n",
    "                X_i = X[i].clone().detach()\n",
    "                y_i = y[i].clone().detach()\n",
    "\n",
    "                y_pred = X_i @ theta_copy\n",
    "                loss = torch.mean((y_pred - y_i) ** 2)\n",
    "                loss.backward()\n",
    "\n",
    "                loss_vals.append(loss.item())\n",
    "                theta_vals.append(theta_copy.clone())\n",
    "\n",
    "                with torch.no_grad():\n",
    "                    theta_copy -= alpha * theta_copy.grad\n",
    "\n",
    "                theta_copy.grad.zero_()\n",
    "\n",
    "        if torch.abs(loss.data - true_loss) < eps:\n",
    "            print(f'{pretty_print[grad_type]} converged in {epoch} epochs')\n",
    "            break\n",
    "\n",
    "        epoch += 1\n",
    "\n",
    "gradient_descent('bgd')\n",
    "gradient_descent('mbgd')\n",
    "gradient_descent('sgd')"
   ]
  }
 ],
 "metadata": {
  "kernelspec": {
   "display_name": "venv",
   "language": "python",
   "name": "python3"
  },
  "language_info": {
   "codemirror_mode": {
    "name": "ipython",
    "version": 3
   },
   "file_extension": ".py",
   "mimetype": "text/x-python",
   "name": "python",
   "nbconvert_exporter": "python",
   "pygments_lexer": "ipython3",
   "version": "3.12.4"
  }
 },
 "nbformat": 4,
 "nbformat_minor": 2
}
